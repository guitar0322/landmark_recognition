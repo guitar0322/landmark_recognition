{
 "cells": [
  {
   "cell_type": "code",
   "execution_count": 165,
   "metadata": {
    "ExecuteTime": {
     "end_time": "2017-12-27T10:40:14.134394Z",
     "start_time": "2017-12-27T10:40:12.969482Z"
    }
   },
   "outputs": [],
   "source": [
    "import sys\n",
    "import json\n",
    "import numpy as np\n",
    "import os\n",
    "import matplotlib.pyplot as plt\n",
    "# import cv2\n",
    "from sklearn.decomposition import PCA\n",
    "# from mpl_toolkits.mplot3d import Axes3D\n",
    "# from mpl_toolkits.mplot3d import proj3d\n",
    "from imageio import imread\n",
    "from skimage.transform import resize\n",
    "from scipy.spatial import distance\n",
    "from keras.models import load_model\n",
    "\n",
    "%matplotlib inline"
   ]
  },
  {
   "cell_type": "code",
   "execution_count": 158,
   "metadata": {
    "ExecuteTime": {
     "end_time": "2017-12-27T10:40:14.141456Z",
     "start_time": "2017-12-27T10:40:14.138893Z"
    }
   },
   "outputs": [],
   "source": [
    "image_dir_basepath = '../data/images/'\n",
    "image_test_basepath = '../data/images/Test'\n",
    "names = ['Lottetower', 'Kyeongbok', '63building', 'Namsan', 'LeesunsinStatue']\n",
    "image_size = 160"
   ]
  },
  {
   "cell_type": "code",
   "execution_count": 159,
   "metadata": {
    "ExecuteTime": {
     "end_time": "2017-12-27T10:40:19.045611Z",
     "start_time": "2017-12-27T10:40:14.142896Z"
    },
    "scrolled": true
   },
   "outputs": [
    {
     "name": "stderr",
     "output_type": "stream",
     "text": [
      "C:\\Users\\HDY\\Anaconda3\\lib\\site-packages\\keras\\engine\\saving.py:292: UserWarning: No training configuration found in save file: the model was *not* compiled. Compile it manually.\n",
      "  warnings.warn('No training configuration found in save file: '\n"
     ]
    }
   ],
   "source": [
    "model_path = '../model/facenet_keras.h5'#pretrained parameter loading\n",
    "model = load_model(model_path)"
   ]
  },
  {
   "cell_type": "code",
   "execution_count": 161,
   "metadata": {
    "ExecuteTime": {
     "end_time": "2017-12-27T10:40:19.061127Z",
     "start_time": "2017-12-27T10:40:19.046834Z"
    }
   },
   "outputs": [],
   "source": [
    "def prewhiten(x):#높은 정확도를 위한 데이터 정규화\n",
    "    if x.ndim == 4:\n",
    "        axis = (1, 2, 3)\n",
    "        size = x[0].size\n",
    "    elif x.ndim == 3:\n",
    "        axis = (0, 1, 2)\n",
    "        size = x.size\n",
    "    else:\n",
    "        raise ValueError('Dimension should be 3 or 4')\n",
    "\n",
    "    mean = np.mean(x, axis=axis, keepdims=True)\n",
    "    std = np.std(x, axis=axis, keepdims=True)\n",
    "    std_adj = np.maximum(std, 1.0/np.sqrt(size))\n",
    "    y = (x - mean) / std_adj#평균을 뺸값에 표준편차로 나누어 데이터 정규화\n",
    "    return y\n",
    "\n",
    "def l2_normalize(x, axis=-1, epsilon=1e-10): #L2 norm 정규화. 모든 원소의 제곱들의 합에 root취한값으로 나눔연산.\n",
    "    output = x / np.sqrt(np.maximum(np.sum(np.square(x), axis=axis, keepdims=True), epsilon))\n",
    "    return output"
   ]
  },
  {
   "cell_type": "code",
   "execution_count": 162,
   "metadata": {},
   "outputs": [],
   "source": [
    "def resize_images(filepaths):#pretrained 모델에 맞는 인풋 사이즈로 resize\n",
    "    images = []\n",
    "    for filepath in filepaths:\n",
    "        img = imread(filepath)\n",
    "        img = np.array(img)\n",
    "        img = resize(img, (160,160))\n",
    "        images.append(img)\n",
    "        \n",
    "    return np.array(images)"
   ]
  },
  {
   "cell_type": "code",
   "execution_count": 7,
   "metadata": {},
   "outputs": [],
   "source": [
    "def resize_image(image):\n",
    "    img = np.array(image)\n",
    "    img = resize(img, (160,160))\n",
    "    return img"
   ]
  },
  {
   "cell_type": "code",
   "execution_count": 8,
   "metadata": {
    "ExecuteTime": {
     "end_time": "2017-12-27T10:40:19.080372Z",
     "start_time": "2017-12-27T10:40:19.073619Z"
    }
   },
   "outputs": [],
   "source": [
    "def calc_embs(filepaths, margin=10, batch_size=1):#landmark image의 embedding값 계산\n",
    "    images = resize_images(filepaths)\n",
    "#     print(images)\n",
    "#     images = images.reshape(3, -1)\n",
    "    \n",
    "    \n",
    "#     aligned_images = prewhiten(load_and_align_images(filepaths, margin))\n",
    "#     aligned_images = prewhiten(np.array(images))\n",
    "    aligned_images = images\n",
    "    pd = []\n",
    "    for start in range(0, len(aligned_images), batch_size):\n",
    "        pd.append(model.predict_on_batch(aligned_images[start:start+batch_size]))#모델 결과산출\n",
    "    embs = l2_normalize(np.concatenate(pd))#정규화적용\n",
    "\n",
    "    return embs"
   ]
  },
  {
   "cell_type": "code",
   "execution_count": 75,
   "metadata": {},
   "outputs": [],
   "source": [
    "def calc_emb(image):\n",
    "    resize_img = [resize_image(image)]\n",
    "    resize_img = np.array(resize_img)\n",
    "    emb = l2_normalize(model.predict_on_batch(resize_img))\n",
    "    \n",
    "    return emb"
   ]
  },
  {
   "cell_type": "code",
   "execution_count": 12,
   "metadata": {},
   "outputs": [],
   "source": [
    "#128차원 벡터"
   ]
  },
  {
   "cell_type": "code",
   "execution_count": 96,
   "metadata": {
    "ExecuteTime": {
     "end_time": "2017-12-27T10:40:21.177185Z",
     "start_time": "2017-12-27T10:40:19.089258Z"
    },
    "scrolled": true
   },
   "outputs": [],
   "source": [
    "#임베딩결과를 딕셔너리에 저장\n",
    "def emb_to_json():\n",
    "    data = {}\n",
    "    for name in names:\n",
    "        image_dirpath = image_dir_basepath + name\n",
    "        image_filepaths = [os.path.join(image_dirpath, f) for f in os.listdir(image_dirpath)]\n",
    "        embs = calc_embs(image_filepaths)\n",
    "        for i in range(len(image_filepaths)):\n",
    "    #         data['{}{}'.format(name, i)] = {'image_filepath' : image_filepaths[i],#딕셔너리에 embedding값 저장\n",
    "    #                                         'emb' : embs[i]}\n",
    "            data['{}{}'.format(name, i)] = {'name' : name,#딕셔너리에 embedding값 저장\n",
    "                                            'emb' : embs[i].tolist()}\n",
    "    \n",
    "    with open('../data/jsondata.json', 'w', encoding='utf-8') as json_file:\n",
    "        json.dump(json.dumps(data), json_file, indent=\"\\t\")"
   ]
  },
  {
   "cell_type": "code",
   "execution_count": 166,
   "metadata": {},
   "outputs": [],
   "source": [
    "def load_json():\n",
    "    dic = {}\n",
    "    with open('../data/jsondata.json') as json_data:\n",
    "        dic = json.load(json_data)\n",
    "        dic = json.loads(dic)\n",
    "    return dic"
   ]
  },
  {
   "cell_type": "code",
   "execution_count": 132,
   "metadata": {
    "ExecuteTime": {
     "end_time": "2017-12-27T10:40:19.088042Z",
     "start_time": "2017-12-27T10:40:19.081568Z"
    }
   },
   "outputs": [],
   "source": [
    "def calc_dist_dic(img_name0, img_name1, dic_data):#euclidean distance 알고리즘 dictionary를 활용\n",
    "    return distance.euclidean(dic_data[img_name0]['emb'], dic_data[img_name1]['emb'])\n",
    "\n",
    "def calc_dist(target_emd, dest_emd):#단일벡터 사용.\n",
    "    return distance.euclidean(target_emd, dest_emd)\n",
    "\n",
    "def calc_dist_plot(img_name0, img_name1):\n",
    "    print(calc_dist_dic(img_name0, img_name1))\n",
    "#     plt.subplot(1, 2, 1)\n",
    "#     plt.imshow(imread(data[img_name0]['name']))\n",
    "#     plt.subplot(1, 2, 2)\n",
    "#     plt.imshow(imread(data[img_name1]['name']))"
   ]
  },
  {
   "cell_type": "code",
   "execution_count": 150,
   "metadata": {},
   "outputs": [],
   "source": [
    "def recognition_landmark(target_img, emb_dic):\n",
    "    target_emb = calc_emb(target_img)\n",
    "    max_value = 1\n",
    "    cur_value = 0\n",
    "    result = {}\n",
    "    for emb in emb_dic:\n",
    "        cur_value = calc_dist(target_emb, emb_dic.get(emb)['emb'])\n",
    "        if(max_value >= cur_value):\n",
    "            max_value = cur_value\n",
    "            result = emb_dic.get(emb)\n",
    "    print(max_value)\n",
    "    return result['name']"
   ]
  },
  {
   "cell_type": "code",
   "execution_count": 154,
   "metadata": {},
   "outputs": [
    {
     "name": "stdout",
     "output_type": "stream",
     "text": [
      "0.4744849885463691\n",
      "Kyeongbok\n",
      "0.43629891209136357\n",
      "63building\n",
      "0.4270885066735012\n",
      "Lottetower\n",
      "0.3999078884300612\n",
      "LeesunsinStatue\n",
      "0.5344353649101415\n",
      "LeesunsinStatue\n"
     ]
    }
   ],
   "source": [
    "print(recognition_landmark(imread('../data/images/kyeongbok.jpg'), json_data))\n",
    "print(recognition_landmark(imread('../data/images/63building0.jpg'), json_data))\n",
    "print(recognition_landmark(imread('../data/images/lottetower1.jpg'), json_data))\n",
    "print(recognition_landmark(imread('../data/images/Namsan1.jpg'), json_data))\n",
    "print(recognition_landmark(imread('../data/images/leesunsinstatue0.jpg'), json_data))"
   ]
  },
  {
   "cell_type": "code",
   "execution_count": 62,
   "metadata": {},
   "outputs": [
    {
     "name": "stdout",
     "output_type": "stream",
     "text": [
      "0.4270885066735012\n"
     ]
    }
   ],
   "source": [
    "calc_dist_plot('Lottetower0', 'Lottetower1')"
   ]
  },
  {
   "cell_type": "code",
   "execution_count": 61,
   "metadata": {
    "ExecuteTime": {
     "end_time": "2017-12-27T10:40:21.573293Z",
     "start_time": "2017-12-27T10:40:21.383706Z"
    }
   },
   "outputs": [
    {
     "name": "stdout",
     "output_type": "stream",
     "text": [
      "0.6868605545006965\n"
     ]
    }
   ],
   "source": [
    "calc_dist_plot('Lottetower0', 'Lottetower2')"
   ]
  },
  {
   "cell_type": "markdown",
   "metadata": {},
   "source": [
    "# plot"
   ]
  },
  {
   "cell_type": "code",
   "execution_count": 287,
   "metadata": {},
   "outputs": [
    {
     "data": {
      "text/plain": [
       "PCA(copy=True, iterated_power='auto', n_components=3, random_state=None,\n",
       "  svd_solver='auto', tol=0.0, whiten=False)"
      ]
     },
     "execution_count": 287,
     "metadata": {},
     "output_type": "execute_result"
    }
   ],
   "source": [
    "pca = PCA(n_components=3)\n",
    "pca.fit(X)"
   ]
  },
  {
   "cell_type": "code",
   "execution_count": 308,
   "metadata": {
    "ExecuteTime": {
     "end_time": "2017-12-27T10:40:21.589320Z",
     "start_time": "2017-12-27T10:40:21.580016Z"
    }
   },
   "outputs": [],
   "source": [
    "X_BillGates = []\n",
    "X_LarryPage = []\n",
    "X_MarkZuckerberg = []\n",
    "X_IU = []\n",
    "for k, v in data.items():\n",
    "    if 'Bill' in k:\n",
    "        X_BillGates.append(v['emb'])\n",
    "    elif 'Larry' in k:\n",
    "        X_LarryPage.append(v['emb'])\n",
    "    elif 'Mark' in k:\n",
    "        X_MarkZuckerberg.append(v['emb'])\n",
    "    elif 'IU' in k:\n",
    "        X_IU.append(v['emb'])\n",
    "    elif 'Lottetower' in k:\n",
    "        X_IU.append(v['emb'])\n",
    "    elif 'Kyeongbok' in k:\n",
    "        X_IU.append(v['emb'])\n",
    "        \n",
    "Xd_BillGates = pca.transform(X_BillGates)\n",
    "Xd_LarryPage = pca.transform(X_LarryPage)\n",
    "Xd_MarkZuckerberg = pca.transform(X_MarkZuckerberg)\n",
    "Xd_IU = pca.transform(X_IU)"
   ]
  },
  {
   "cell_type": "code",
   "execution_count": 309,
   "metadata": {
    "ExecuteTime": {
     "end_time": "2017-12-27T10:40:21.769833Z",
     "start_time": "2017-12-27T10:40:21.590352Z"
    }
   },
   "outputs": [
    {
     "data": {
      "image/png": "[encoded data removed]",
      "text/plain": [
       "<Figure size 576x576 with 1 Axes>"
      ]
     },
     "metadata": {
      "needs_background": "light"
     },
     "output_type": "display_data"
    }
   ],
   "source": [
    "fig = plt.figure(figsize=(8,8))\n",
    "ax = fig.add_subplot(111, projection='3d')\n",
    "plt.rcParams['legend.fontsize'] = 10   \n",
    "ax.plot(Xd_BillGates[:,0], Xd_BillGates[:,1], Xd_BillGates[:,2],\n",
    "        'o', markersize=8, color='blue', alpha=0.5, label='BillGates')\n",
    "ax.plot(Xd_LarryPage[:,0], Xd_LarryPage[:,1], Xd_LarryPage[:,2],\n",
    "        'o', markersize=8, color='red', alpha=0.5, label='LarryPage')\n",
    "ax.plot(Xd_MarkZuckerberg[:,0], Xd_MarkZuckerberg[:,1], Xd_MarkZuckerberg[:,2],\n",
    "        'o', markersize=8, color='green', alpha=0.5, label='MarkZuckerberg')\n",
    "\n",
    "plt.title('Embedding Vector')\n",
    "ax.legend(loc='upper right')\n",
    "\n",
    "plt.show()"
   ]
  },
  {
   "cell_type": "code",
   "execution_count": null,
   "metadata": {
    "collapsed": true
   },
   "outputs": [],
   "source": []
  }
 ],
 "metadata": {
  "kernelspec": {
   "display_name": "Python 3",
   "language": "python",
   "name": "python3"
  },
  "language_info": {
   "codemirror_mode": {
    "name": "ipython",
    "version": 3
   },
   "file_extension": ".py",
   "mimetype": "text/x-python",
   "name": "python",
   "nbconvert_exporter": "python",
   "pygments_lexer": "ipython3",
   "version": "3.6.8"
  },
  "varInspector": {
   "cols": {
    "lenName": 16,
    "lenType": 16,
    "lenVar": 40
   },
   "kernels_config": {
    "python": {
     "delete_cmd_postfix": "",
     "delete_cmd_prefix": "del ",
     "library": "var_list.py",
     "varRefreshCmd": "print(var_dic_list())"
    },
    "r": {
     "delete_cmd_postfix": ") ",
     "delete_cmd_prefix": "rm(",
     "library": "var_list.r",
     "varRefreshCmd": "cat(var_dic_list()) "
    }
   },
   "types_to_exclude": [
    "module",
    "function",
    "builtin_function_or_method",
    "instance",
    "_Feature"
   ],
   "window_display": false
  }
 },
 "nbformat": 4,
 "nbformat_minor": 2
}
